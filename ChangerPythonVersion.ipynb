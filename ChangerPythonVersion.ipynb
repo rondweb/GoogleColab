{
  "nbformat": 4,
  "nbformat_minor": 0,
  "metadata": {
    "colab": {
      "provenance": []
    },
    "kernelspec": {
      "name": "python3",
      "display_name": "Python 3"
    },
    "language_info": {
      "name": "python"
    }
  },
  "cells": [
    {
      "cell_type": "markdown",
      "source": [
        "# **Changing the current version of Google Colab**\n",
        "Let's install the version of the Python needed."
      ],
      "metadata": {
        "id": "d1ntwIVRlrRH"
      }
    },
    {
      "cell_type": "code",
      "source": [
        "!sudo apt-get update -y\n",
        "!sudo apt-get install python3.6"
      ],
      "metadata": {
        "id": "74vKB-VbbEgw"
      },
      "execution_count": null,
      "outputs": []
    },
    {
      "cell_type": "markdown",
      "source": [
        "Now let's configure the version installed as the first option"
      ],
      "metadata": {
        "id": "5gFzRhg3l54U"
      }
    },
    {
      "cell_type": "code",
      "source": [
        "!sudo update-alternatives --install /usr/bin/python3 python3 /usr/bin/python3.6 1\n",
        "!sudo update-alternatives --config python3"
      ],
      "metadata": {
        "colab": {
          "base_uri": "https://localhost:8080/"
        },
        "id": "z66AcSRNl5df",
        "outputId": "4fed007b-39a7-4e81-bb69-37b6fd6e6c99"
      },
      "execution_count": 2,
      "outputs": [
        {
          "output_type": "stream",
          "name": "stdout",
          "text": [
            "There are 2 choices for the alternative python3 (providing /usr/bin/python3).\n",
            "\n",
            "  Selection    Path                Priority   Status\n",
            "------------------------------------------------------------\n",
            "* 0            /usr/bin/python3.8   1         auto mode\n",
            "  1            /usr/bin/python3.6   1         manual mode\n",
            "  2            /usr/bin/python3.8   1         manual mode\n",
            "\n",
            "Press <enter> to keep the current choice[*], or type selection number: 1\n",
            "update-alternatives: using /usr/bin/python3.6 to provide /usr/bin/python3 (python3) in manual mode\n"
          ]
        }
      ]
    },
    {
      "cell_type": "markdown",
      "source": [
        "Perfect! now let's just test our current version of the Python!"
      ],
      "metadata": {
        "id": "MMfyKqJpmdK4"
      }
    },
    {
      "cell_type": "code",
      "source": [
        "!python --version"
      ],
      "metadata": {
        "colab": {
          "base_uri": "https://localhost:8080/"
        },
        "id": "R1d1eEHOlnsl",
        "outputId": "71a76367-4474-498e-ff7f-ea0371559b30"
      },
      "execution_count": 3,
      "outputs": [
        {
          "output_type": "stream",
          "name": "stdout",
          "text": [
            "Python 3.6.15\n"
          ]
        }
      ]
    },
    {
      "cell_type": "code",
      "source": [
        "!sudo apt install python3-pip\n",
        "# !sudo apt-get uninstall python3-distutils\n",
        "!sudo apt install python3.6-distutils\n",
        "!sudo apt-get install python3-apt\n",
        "\n"
      ],
      "metadata": {
        "id": "5Ng6PvNwbJPo"
      },
      "execution_count": null,
      "outputs": []
    },
    {
      "cell_type": "code",
      "execution_count": null,
      "metadata": {
        "id": "k7INGH5qa_CL"
      },
      "outputs": [],
      "source": [
        "!pip install chatterbot"
      ]
    },
    {
      "cell_type": "code",
      "source": [],
      "metadata": {
        "id": "VCUs9qlGba4s"
      },
      "execution_count": null,
      "outputs": []
    }
  ]
}
